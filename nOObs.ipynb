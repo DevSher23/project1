{
 "cells": [
  {
   "cell_type": "code",
   "execution_count": 56,
   "id": "d0c5ce01",
   "metadata": {},
   "outputs": [],
   "source": [
    "# Dependencies\n",
    "# Dependencies\n",
    "import pandas as pd\n",
    "import numpy as np\n",
    "import requests\n",
    "import json\n",
    "\n",
    "\n",
    "#steam_apikey= \"7E696B960B32765290C5A5A8DB2E320C\"\n",
    "params = {\n",
    "    \"appid\":\"480\",\n",
    "    \"key\": \"7E696B960B32765290C5A5A8DB2E320C\"\n",
    "     \n",
    "}\n",
    "\n"
   ]
  },
  {
   "cell_type": "code",
   "execution_count": 57,
   "id": "f900a571",
   "metadata": {},
   "outputs": [
    {
     "name": "stdout",
     "output_type": "stream",
     "text": [
      "{\n",
      "    \"game\": {\n",
      "        \"availableGameStats\": {\n",
      "            \"achievements\": [\n",
      "                {\n",
      "                    \"defaultvalue\": 0,\n",
      "                    \"description\": \"Win one game.\",\n",
      "                    \"displayName\": \"Winner\",\n",
      "                    \"hidden\": 0,\n",
      "                    \"icon\": \"https://steamcdn-a.akamaihd.net/steamcommunity/public/images/apps/480/winner.jpg\",\n",
      "                    \"icongray\": \"https://steamcdn-a.akamaihd.net/steamcommunity/public/images/apps/480/winner_bw.jpg\",\n",
      "                    \"name\": \"ACH_WIN_ONE_GAME\"\n",
      "                },\n",
      "                {\n",
      "                    \"defaultvalue\": 0,\n",
      "                    \"description\": \"Win 100 games.\",\n",
      "                    \"displayName\": \"Champion\",\n",
      "                    \"hidden\": 0,\n",
      "                    \"icon\": \"https://steamcdn-a.akamaihd.net/steamcommunity/public/images/apps/480/champion.jpg\",\n",
      "                    \"icongray\": \"https://steamcdn-a.akamaihd.net/steamcommunity/public/images/apps/480/champion_bw.jpg\",\n",
      "                    \"name\": \"ACH_WIN_100_GAMES\"\n",
      "                },\n",
      "                {\n",
      "                    \"defaultvalue\": 0,\n",
      "                    \"description\": \"Accumulate one mile of distance.\",\n",
      "                    \"displayName\": \"Interstellar\",\n",
      "                    \"hidden\": 0,\n",
      "                    \"icon\": \"https://steamcdn-a.akamaihd.net/steamcommunity/public/images/apps/480/interstellar.jpg\",\n",
      "                    \"icongray\": \"https://steamcdn-a.akamaihd.net/steamcommunity/public/images/apps/480/interstellar_bw.jpg\",\n",
      "                    \"name\": \"ACH_TRAVEL_FAR_ACCUM\"\n",
      "                },\n",
      "                {\n",
      "                    \"defaultvalue\": 0,\n",
      "                    \"description\": \"Travel 500 feet in one life.\",\n",
      "                    \"displayName\": \"Orbiter\",\n",
      "                    \"hidden\": 0,\n",
      "                    \"icon\": \"https://steamcdn-a.akamaihd.net/steamcommunity/public/images/apps/480/orbiter.jpg\",\n",
      "                    \"icongray\": \"https://steamcdn-a.akamaihd.net/steamcommunity/public/images/apps/480/orbiter_bw.jpg\",\n",
      "                    \"name\": \"ACH_TRAVEL_FAR_SINGLE\"\n",
      "                },\n",
      "                {\n",
      "                    \"defaultvalue\": 0,\n",
      "                    \"displayName\": \"NEW_ACHIEVEMENT_NAME_0_4\",\n",
      "                    \"hidden\": 1,\n",
      "                    \"icon\": \"https://steamcdn-a.akamaihd.net/steamcommunity/public/images/apps/480/bb6aa45b43bcb6ad1babe9fd5308d20203a975eb.jpg\",\n",
      "                    \"icongray\": \"https://steamcdn-a.akamaihd.net/steamcommunity/public/images/apps/480/\",\n",
      "                    \"name\": \"NEW_ACHIEVEMENT_0_4\"\n",
      "                }\n",
      "            ],\n",
      "            \"stats\": [\n",
      "                {\n",
      "                    \"defaultvalue\": 0,\n",
      "                    \"displayName\": \"Games Played\",\n",
      "                    \"name\": \"NumGames\"\n",
      "                },\n",
      "                {\n",
      "                    \"defaultvalue\": 0,\n",
      "                    \"displayName\": \"Games Won\",\n",
      "                    \"name\": \"NumWins\"\n",
      "                },\n",
      "                {\n",
      "                    \"defaultvalue\": 0,\n",
      "                    \"displayName\": \"Games Lost\",\n",
      "                    \"name\": \"NumLosses\"\n",
      "                },\n",
      "                {\n",
      "                    \"defaultvalue\": 0,\n",
      "                    \"displayName\": \"Total Feet Traveled\",\n",
      "                    \"name\": \"FeetTraveled\"\n",
      "                },\n",
      "                {\n",
      "                    \"defaultvalue\": 0,\n",
      "                    \"displayName\": \"Average Speed (f/s)\",\n",
      "                    \"name\": \"AverageSpeed\"\n",
      "                },\n",
      "                {\n",
      "                    \"defaultvalue\": 0,\n",
      "                    \"displayName\": \"Max Shots Fired\",\n",
      "                    \"name\": \"Unused2\"\n",
      "                },\n",
      "                {\n",
      "                    \"defaultvalue\": 0,\n",
      "                    \"displayName\": \"Max Feet Traveled\",\n",
      "                    \"name\": \"MaxFeetTraveled\"\n",
      "                }\n",
      "            ]\n",
      "        },\n",
      "        \"gameName\": \"Spacewar\",\n",
      "        \"gameVersion\": \"5\"\n",
      "    }\n",
      "}\n"
     ]
    }
   ],
   "source": [
    "url = \"https://api.steampowered.com/ISteamUserStats/GetSchemaForGame/v2/\"\n",
    "response = requests.get(url, params=params).json()\n",
    "print(json.dumps(response, indent=4, sort_keys=True))"
   ]
  },
  {
   "cell_type": "code",
   "execution_count": 55,
   "id": "b8ddf992",
   "metadata": {},
   "outputs": [
    {
     "name": "stdout",
     "output_type": "stream",
     "text": [
      "null\n"
     ]
    }
   ],
   "source": [
    "url2 = \"http://store.steampowered.com/api/appdetails?appids={1460}\"\n",
    "response = requests.get(url2).json()\n",
    "print(json.dumps(response, indent=4, sort_keys=True))"
   ]
  },
  {
   "cell_type": "code",
   "execution_count": null,
   "id": "274798b6",
   "metadata": {},
   "outputs": [],
   "source": [
    "#Nico test"
   ]
  },
  {
   "cell_type": "code",
   "execution_count": null,
   "id": "61d377bb",
   "metadata": {},
   "outputs": [],
   "source": []
  },
  {
   "cell_type": "code",
   "execution_count": 1,
   "id": "d3d6bdfd",
   "metadata": {},
   "outputs": [
    {
     "data": {
      "text/plain": [
       "4"
      ]
     },
     "execution_count": 1,
     "metadata": {},
     "output_type": "execute_result"
    }
   ],
   "source": [
    "#Test the git\n",
    "2+2"
   ]
  },
  {
   "cell_type": "code",
   "execution_count": null,
   "id": "13c3c8fc",
   "metadata": {},
   "outputs": [],
   "source": []
  }
 ],
 "metadata": {
  "kernelspec": {
   "display_name": "PythonData",
   "language": "python",
   "name": "pythondata"
  },
  "language_info": {
   "codemirror_mode": {
    "name": "ipython",
    "version": 3
   },
   "file_extension": ".py",
   "mimetype": "text/x-python",
   "name": "python",
   "nbconvert_exporter": "python",
   "pygments_lexer": "ipython3",
   "version": "3.7.7"
  }
 },
 "nbformat": 4,
 "nbformat_minor": 5
}
