{
 "cells": [
  {
   "cell_type": "code",
   "execution_count": 1,
   "id": "ee2306d2",
   "metadata": {},
   "outputs": [],
   "source": [
    "from scipy.stats import linregress\n",
    "import numpy as np\n",
    "import pandas as pd\n",
    "import matplotlib.pyplot as plt\n",
    "import requests\n",
    "import json\n",
    "#\"key\"=api_key\n",
    "from config import api_key"
   ]
  },
  {
   "cell_type": "code",
   "execution_count": 2,
   "id": "07f3d042",
   "metadata": {},
   "outputs": [
    {
     "name": "stdout",
     "output_type": "stream",
     "text": [
      "{\n",
      "    \"response\": {\n",
      "        \"player_count\": 8806,\n",
      "        \"result\": 1\n",
      "    }\n",
      "}\n"
     ]
    }
   ],
   "source": [
    "url = \"https://api.steampowered.com/ISteamUserStats/GetNumberOfCurrentPlayers/v1/\"\n",
    "params = {\"appid\":'480'}\n",
    "\n",
    "response = requests.get(url, params=params).json()\n",
    "print(json.dumps(response, indent=4, sort_keys=True))"
   ]
  },
  {
   "cell_type": "code",
   "execution_count": 3,
   "id": "d6a620e8",
   "metadata": {},
   "outputs": [
    {
     "name": "stdout",
     "output_type": "stream",
     "text": [
      "{\n",
      "    \"response\": {\n",
      "        \"player_count\": 77,\n",
      "        \"result\": 1\n",
      "    }\n",
      "}\n"
     ]
    }
   ],
   "source": [
    "url = \"https://api.steampowered.com/ISteamUserStats/GetNumberOfCurrentPlayers/v1/\"\n",
    "params = {\"appid\":'20'}\n",
    "\n",
    "response = requests.get(url, params=params).json()\n",
    "print(json.dumps(response, indent=4, sort_keys=True))"
   ]
  },
  {
   "cell_type": "code",
   "execution_count": 11,
   "id": "29cefe78",
   "metadata": {},
   "outputs": [],
   "source": [
    "# url2 = \"https://api.steampowered.com/ISteamUserStats/GetGlobalStatsForGame/v1/\"\n",
    "# params2 = {\"appid\":'480',\n",
    "#          \"count\": 2,\n",
    "#          }\n",
    "\n",
    "# response = requests.get(url2, params=params2).json()\n",
    "# #print(json.dumps(response, indent=4, sort_keys=True))"
   ]
  },
  {
   "cell_type": "code",
   "execution_count": null,
   "id": "113c4169",
   "metadata": {},
   "outputs": [],
   "source": [
    "# #GetGlobalAchievementPercentagesForApp\n",
    "# url3 =\"https://api.steampowered.com/ISteamUserStats/GetGlobalAchievementPercentagesForApp/v2/\"\n",
    "# params3 = {\"appid\":'955'}\n",
    "\n",
    "# response = requests.get(url3, params=params3).json()\n",
    "print(json.dumps(response, indent=4, sort_keys=True))"
   ]
  },
  {
   "cell_type": "code",
   "execution_count": null,
   "id": "f9b30619",
   "metadata": {},
   "outputs": [],
   "source": [
    "#GetSchemaForGameurl4 = \"https://api.steampowered.com/ISteamUserStats/GetSchemaForGame/v2/\"\n",
    "params4 = {\"appid\":\"480\", \"key\": api_key}\n",
    "\n",
    "response = requests.get(url4, params=params4).json()\n",
    "print(json.dumps(response, indent=4, sort_keys=True))"
   ]
  },
  {
   "cell_type": "code",
   "execution_count": null,
   "id": "4b1f51a9",
   "metadata": {},
   "outputs": [],
   "source": [
    "#GetGameServerPlayerStatsForGame\n",
    "url5 = \"https://partner.steam-api.com/ISteamGameServerStats/GetGameServerPlayerStatsForGame/v1/\"\n",
    "start = '2019-01-15 12:00:00'\n",
    "end = '2022-09-15 12:00:00'\n",
    "max_results = 60\n",
    "params5 = {\"key\": api_key, \"appid\":'480', \"rng_start\":start, \"rng_end\":end, \"max_results\":max_results}\n",
    "\n",
    "response5 = requests.get(url5,params=params5).json()\n",
    "response"
   ]
  },
  {
   "cell_type": "code",
   "execution_count": null,
   "id": "e8a9e6a3",
   "metadata": {},
   "outputs": [],
   "source": [
    "#GetGlobalStatsForGame\n",
    "url6 = \"https://api.steampowered.com/ISteamUserStats/GetGlobalStatsForGame/v1/\"\n",
    "name = [\"NumWins\", \"NumGames\", \"NumLosses\"]\n",
    "\n",
    "params6 = {\"appid\":\"480\", \"key\": api_key, \"name\": name}\n",
    "\n",
    "response6 = requests.get(url6, params=params6).json()\n"
   ]
  },
  {
   "cell_type": "code",
   "execution_count": null,
   "id": "1a04c5f4",
   "metadata": {},
   "outputs": [],
   "source": [
    "#applist\n",
    "url = \"https://api.steampowered.com/ISteamApps/GetAppList/v2/\"\n",
    "data = requests.get(url).json()\n",
    "#print(data)"
   ]
  },
  {
   "cell_type": "code",
   "execution_count": null,
   "id": "c3a6d452",
   "metadata": {},
   "outputs": [],
   "source": [
    "#GetNewsForApp\n",
    "new_url = \"https://api.steampowered.com/ISteamNews/GetNewsForApp/v2/\"\n",
    "params = {\"appid\":\"955\"}\n",
    "new_data = requests.get(new_url,params=params).json()\n",
    "print(new_data)"
   ]
  },
  {
   "cell_type": "code",
   "execution_count": null,
   "id": "726c6f1a",
   "metadata": {},
   "outputs": [],
   "source": [
    "#GetGlobalAchievementPercentagesForApp"
   ]
  },
  {
   "cell_type": "code",
   "execution_count": 12,
   "id": "539b9468",
   "metadata": {},
   "outputs": [],
   "source": [
    "#GetLeaderboardsForGame\n",
    "# new_url2 = \"https://partner.steam-api.com/ISteamLeaderboards/GetLeaderboardsForGame/v2/\"\n",
    "# params = {\"appid\":\"955\", \"key\": api_key}\n",
    "\n",
    "# response = requests.get(new_url2, params=params).json()\n",
    "# response"
   ]
  },
  {
   "cell_type": "code",
   "execution_count": null,
   "id": "e65366e1",
   "metadata": {},
   "outputs": [],
   "source": []
  }
 ],
 "metadata": {
  "kernelspec": {
   "display_name": "PythonData",
   "language": "python",
   "name": "pythondata"
  },
  "language_info": {
   "codemirror_mode": {
    "name": "ipython",
    "version": 3
   },
   "file_extension": ".py",
   "mimetype": "text/x-python",
   "name": "python",
   "nbconvert_exporter": "python",
   "pygments_lexer": "ipython3",
   "version": "3.7.7"
  }
 },
 "nbformat": 4,
 "nbformat_minor": 5
}
